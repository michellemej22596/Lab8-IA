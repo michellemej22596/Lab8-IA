{
 "cells": [
  {
   "cell_type": "markdown",
   "metadata": {},
   "source": [
    "# Laboratorio 8"
   ]
  },
  {
   "cell_type": "markdown",
   "metadata": {},
   "source": [
    "Silvia Illescas y Michelle Mejia"
   ]
  },
  {
   "cell_type": "markdown",
   "metadata": {},
   "source": [
    "------------------"
   ]
  },
  {
   "cell_type": "markdown",
   "metadata": {},
   "source": [
    "### Task 1. Responde las siguientes preguntas"
   ]
  },
  {
   "cell_type": "markdown",
   "metadata": {},
   "source": [
    "1. Investigar el algoritmo AC-3 y su relación con el algoritmo de backtracking search"
   ]
  },
  {
   "cell_type": "markdown",
   "metadata": {},
   "source": [
    "El algoritmo AC-3 es un algoritmo utilizado para resolver problemas de Satisfacción de Restricciones (CSP) en los que necesitamos asegurar que cada arco en la red de restricciones sea consistente. Por decirlo así, para cada variable en el problema AC-3 asegura que no haya valores en el dominio de una variable que no puedan ser satisfactoriamente relacionados con las variables vecinas a través de las restricciones definidas.\n",
    "\n",
    "El algoritmo funciona revisando los arcos de las restricciones y eliminando los valores de dominio de las variables que no pueden participar en ninguna asignación válida con la variable vecina. Este proceso de revisión se repite hasta que todos los arcos sean consistentes.\n",
    "\n",
    "Se relaciona con el backtracking search ya que este tiene un enfoque general para la resolución de problemas de CSP, que consiste en probar asignaciones de valores a las variables, retrocediendo cuando se encuentra una asignación inválida. AC-3 y el algoritmo de backtracking se complementan. AC-3 se utiliza generalmente antes de aplicar backtracking para preprocesar las restricciones y reducir los dominios de las variables, eliminando valores inconsistente. Esto puede mejorar la eficiencia del algoritmo de backtracking al reducir la cantidad de retrocesos necesarios, ya que ya se ha hecho un trabajo de eliminación de valores que no son viables."
   ]
  },
  {
   "cell_type": "markdown",
   "metadata": {},
   "source": [
    "Russell, S., & Norvig, P. (2020). Artificial Intelligence: A Modern Approach (4th ed.). Pearson."
   ]
  },
  {
   "cell_type": "markdown",
   "metadata": {},
   "source": [
    "2. Defina en sus propias palabras el término \"Arc Consistency\""
   ]
  },
  {
   "cell_type": "markdown",
   "metadata": {},
   "source": [
    "Arc Consistency es como la propiedad de las restricciones en un problema de satisfacción (CSP) donde, para cada variable y cada valor en su dominio, siempre existe al menos un valor en el dominio de la variable vecina que cumpla la restricción. O sea, si tenemos dos variables relacionadas por una restricción, la consistencia de arco asegura que no haya valores en el dominio de una de las variables que no puedan emparejarse con algún valor válido en el dominio de la otra variable.\n",
    "\n",
    "Un arco entre dos variables es válido o consistente si, para cada valor en el dominio de la primera variable, existe uno en el dominio de la segunda variable según las restricciones definidas. Si se detectan valores incompatibles, se eliminan de los dominios para reducir el espacio de búsqueda.\n",
    "\n"
   ]
  }
 ],
 "metadata": {
  "language_info": {
   "name": "python"
  }
 },
 "nbformat": 4,
 "nbformat_minor": 2
}
